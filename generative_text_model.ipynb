from transformers import pipeline, set_seed
import ipywidgets as widgets
from IPython.display import display

# --- Setup Text Generator Pipeline ---
generator = pipeline("text-generation", model="gpt2")
set_seed(42)  # for reproducibility

# --- UI: Prompt Box ---
prompt_box = widgets.Textarea(
    value='The impact of artificial intelligence on education',
    placeholder='Enter a topic or prompt here...',
    description='Prompt:',
    layout=widgets.Layout(width='100%', height='80px')
)

# --- UI: Button to Generate ---
output_box = widgets.Output()
generate_button = widgets.Button(description="Generate Text", button_style='success')

# --- Generate Function ---
def on_generate_click(b):
    output_box.clear_output()
    prompt = prompt_box.value.strip()
    if prompt:
        with output_box:
            print(f"\n🔍 Prompt: {prompt}\n")
            results = generator(prompt, max_length=150, num_return_sequences=1)
            print("📝 Generated Text:\n")
            print(results[0]['generated_text'])
    else:
        with output_box:
            print("⚠️ Please enter a prompt.")

generate_button.on_click(on_generate_click)

# --- Display ---
display(prompt_box)
display(generate_button)
display(output_box)
